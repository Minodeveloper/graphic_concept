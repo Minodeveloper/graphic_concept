{
 "cells": [
  {
   "cell_type": "code",
   "execution_count": null,
   "id": "61aa1376-cbdc-4871-9a6c-b566b2163023",
   "metadata": {},
   "outputs": [],
   "source": [
    "import numpy as np\n",
    "import cv2"
   ]
  },
  {
   "cell_type": "code",
   "execution_count": 15,
   "id": "2a66203e-e382-4a19-b202-fe242d3f76bc",
   "metadata": {},
   "outputs": [],
   "source": [
    "resolution_x = 16\n",
    "resolution_y = 8\n",
    "\n",
    "pic = np.zeros((resolution_y, resolution_x))\n",
    "\n",
    "# print(repr(pic))\n",
    "\n",
    "pic = np.array([[0., 0., 0., 0., 0., 255., 255., 255., 255., 255., 0., 0., 0., 0., 0., 0.],\n",
    "                [0., 0., 0., 0., 0., 255., 0., 0., 0., 0., 0., 0., 0., 0., 0., 0.],\n",
    "                [0., 0., 0., 0., 0., 255., 0., 0., 0., 0., 0., 0., 0., 0., 0., 0.],\n",
    "                [0., 0., 0., 0., 0., 255., 0., 0., 0., 0., 0., 0., 0., 0., 0., 0.],\n",
    "                [0., 0., 0., 0., 0., 255., 0., 0., 0., 0., 0., 0., 0., 0., 0., 0.],\n",
    "                [0., 0., 0., 0., 0., 255., 0., 0., 0., 0., 0., 0., 0., 0., 0., 0.],\n",
    "                [0., 0., 0., 0., 0., 0., 0., 0., 0., 0., 0., 0., 0., 0., 0., 0.],\n",
    "                [0., 0., 0., 0., 0., 0., 0., 0., 0., 0., 0., 0., 0., 0., 0., 0.]])"
   ]
  },
  {
   "cell_type": "code",
   "execution_count": 16,
   "id": "c4bac27b-5674-46a2-9acb-cb74f18b8c60",
   "metadata": {},
   "outputs": [
    {
     "data": {
      "text/plain": [
       "True"
      ]
     },
     "execution_count": 16,
     "metadata": {},
     "output_type": "execute_result"
    }
   ],
   "source": [
    "cv2.imwrite(\"picture.png\", pic)"
   ]
  },
  {
   "cell_type": "code",
   "execution_count": null,
   "id": "bf043484-4fd3-461a-943d-d2e05b70753c",
   "metadata": {},
   "outputs": [],
   "source": []
  }
 ],
 "metadata": {
  "kernelspec": {
   "display_name": "Python 3 (ipykernel)",
   "language": "python",
   "name": "python3"
  },
  "language_info": {
   "codemirror_mode": {
    "name": "ipython",
    "version": 3
   },
   "file_extension": ".py",
   "mimetype": "text/x-python",
   "name": "python",
   "nbconvert_exporter": "python",
   "pygments_lexer": "ipython3",
   "version": "3.12.0"
  }
 },
 "nbformat": 4,
 "nbformat_minor": 5
}
